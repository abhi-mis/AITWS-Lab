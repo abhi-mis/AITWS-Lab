{
  "metadata": {
    "language_info": {
      "codemirror_mode": {
        "name": "python",
        "version": 3
      },
      "file_extension": ".py",
      "mimetype": "text/x-python",
      "name": "python",
      "nbconvert_exporter": "python",
      "pygments_lexer": "ipython3",
      "version": "3.8"
    },
    "kernelspec": {
      "name": "python",
      "display_name": "Python (Pyodide)",
      "language": "python"
    }
  },
  "nbformat_minor": 4,
  "nbformat": 4,
  "cells": [
    {
      "cell_type": "code",
      "source": "import numpy as np\ni=np.array([[2,0,1],[1,2,0],[0,1,2]])\nj=np.array([[1,2,0],[0,2,1],[1,0,2]])\na=np.arange(20).reshape(5,4)\nm=(i,j)\nprint(a[m])\n",
      "metadata": {},
      "execution_count": null,
      "outputs": []
    }
  ]
}