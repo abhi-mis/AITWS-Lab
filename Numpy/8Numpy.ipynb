{
  "cells": [
    {
      "cell_type": "code",
      "execution_count": null,
      "metadata": {},
      "outputs": [],
      "source": [
        "import numpy as np\n",
        "a=np.random.randint(10,30,(3,3))\n",
        "print(\"Matrix A\\n\",a)\n",
        "b=a.sum(axis=0)\n",
        "print(\"\\nMatrix B\\n\",b)\n",
        "c=a.max(axis=1)\n",
        "print(\"\\nMatrix C\\n\",c)\n",
        "print(\"\\nMatrix D\\n\",b+c)"
      ]
    }
  ],
  "metadata": {
    "kernelspec": {
      "display_name": "Python (Pyodide)",
      "language": "python",
      "name": "python"
    },
    "language_info": {
      "codemirror_mode": {
        "name": "python",
        "version": 3
      },
      "file_extension": ".py",
      "mimetype": "text/x-python",
      "name": "python",
      "nbconvert_exporter": "python",
      "pygments_lexer": "ipython3",
      "version": "3.8"
    }
  },
  "nbformat": 4,
  "nbformat_minor": 4
}
