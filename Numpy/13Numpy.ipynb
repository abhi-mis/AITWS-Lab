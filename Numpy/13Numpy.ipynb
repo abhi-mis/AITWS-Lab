{
  "metadata": {
    "language_info": {
      "codemirror_mode": {
        "name": "python",
        "version": 3
      },
      "file_extension": ".py",
      "mimetype": "text/x-python",
      "name": "python",
      "nbconvert_exporter": "python",
      "pygments_lexer": "ipython3",
      "version": "3.8"
    },
    "kernelspec": {
      "name": "python",
      "display_name": "Python (Pyodide)",
      "language": "python"
    }
  },
  "nbformat_minor": 4,
  "nbformat": 4,
  "cells": [
    {
      "cell_type": "code",
      "source": "import numpy as np\nr=np.random.randint(0,9,9).reshape(3,3)\nw,v=np.linalg.eig(r)\nprint(\"Eigen vector:\\n\",w)\nprint(\"Eigen values:\\n\",v)",
      "metadata": {},
      "execution_count": null,
      "outputs": []
    }
  ]
}