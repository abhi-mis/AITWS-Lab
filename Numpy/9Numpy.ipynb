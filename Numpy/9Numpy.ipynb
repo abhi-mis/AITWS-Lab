{
  "metadata": {
    "language_info": {
      "codemirror_mode": {
        "name": "python",
        "version": 3
      },
      "file_extension": ".py",
      "mimetype": "text/x-python",
      "name": "python",
      "nbconvert_exporter": "python",
      "pygments_lexer": "ipython3",
      "version": "3.8"
    },
    "kernelspec": {
      "name": "python",
      "display_name": "Python (Pyodide)",
      "language": "python"
    }
  },
  "nbformat_minor": 4,
  "nbformat": 4,
  "cells": [
    {
      "cell_type": "code",
      "source": "import numpy as np\ndef fx(x,y):\nreturn ((x**3)+(5*y))\nnp.fromfunction(fx,(3,3),dtype=int)\n",
      "metadata": {},
      "execution_count": null,
      "outputs": []
    }
  ]
}