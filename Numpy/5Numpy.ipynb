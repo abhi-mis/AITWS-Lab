{
  "cells": [
    {
      "cell_type": "code",
      "execution_count": null,
      "metadata": {},
      "outputs": [],
      "source": [
        "import numpy as np\n",
        "a=np.random.randint(1,10,(5,2))\n",
        "a=np.array(a,dtype=float)\n",
        "print(\"Matrix A\\n\",a,\"\\n\\n\")\n",
        "b=np.random.randint(1,10,(5,2))\n",
        "print(\"Matrix B\\n\",b,\"\\n\\n\")\n",
        "a+=b\n",
        "print(\"After addition\\n\",a)"
      ]
    }
  ],
  "metadata": {
    "kernelspec": {
      "display_name": "Python (Pyodide)",
      "language": "python",
      "name": "python"
    },
    "language_info": {
      "codemirror_mode": {
        "name": "python",
        "version": 3
      },
      "file_extension": ".py",
      "mimetype": "text/x-python",
      "name": "python",
      "nbconvert_exporter": "python",
      "pygments_lexer": "ipython3",
      "version": "3.8"
    }
  },
  "nbformat": 4,
  "nbformat_minor": 4
}
