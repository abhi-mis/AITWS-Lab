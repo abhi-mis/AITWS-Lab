{
  "cells": [
    {
      "cell_type": "code",
      "execution_count": null,
      "metadata": {},
      "outputs": [],
      "source": [
        "import numpy as np\n",
        "a=np.random.randint(10,30,(3,3))\n",
        "b=np.ones([3,3],dtype='int');\n",
        "c=a+b;\n",
        "d=c\n",
        "print(\"Matrix A\\n\",a,\"\\n\\nMatrix B\\n\",b,\"\\n\\nMatrix C\\n\",c)\n",
        "c=np.array(c,dtype='complex')\n",
        "d=d.astype('complex')\n",
        "print(\"Matrix C\\n\",c,\"\\n\\nMatrix D\\n\",d)"
      ]
    },
    {
      "cell_type": "code",
      "execution_count": null,
      "metadata": {},
      "outputs": [],
      "source": []
    }
  ],
  "metadata": {
    "kernelspec": {
      "display_name": "Python (Pyodide)",
      "language": "python",
      "name": "python"
    },
    "language_info": {
      "codemirror_mode": {
        "name": "python",
        "version": 3
      },
      "file_extension": ".py",
      "mimetype": "text/x-python",
      "name": "python",
      "nbconvert_exporter": "python",
      "pygments_lexer": "ipython3",
      "version": "3.8"
    }
  },
  "nbformat": 4,
  "nbformat_minor": 4
}
