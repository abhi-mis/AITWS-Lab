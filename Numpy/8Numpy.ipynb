{
  "metadata": {
    "language_info": {
      "codemirror_mode": {
        "name": "python",
        "version": 3
      },
      "file_extension": ".py",
      "mimetype": "text/x-python",
      "name": "python",
      "nbconvert_exporter": "python",
      "pygments_lexer": "ipython3",
      "version": "3.8"
    },
    "kernelspec": {
      "name": "python",
      "display_name": "Python (Pyodide)",
      "language": "python"
    }
  },
  "nbformat_minor": 4,
  "nbformat": 4,
  "cells": [
    {
      "cell_type": "code",
      "source": "import numpy as np\na=np.arange(9).reshape(3,3)\nprint(\"The Matrix: \\n\",a)\nsum_col=a.sum(axis=0)\nmax_row=a.max(axis=1)\nprint(\"The Max val of rows: \",max_row)\nprint(\"The Sum: \",np.add(sum_col,max_row))\n",
      "metadata": {},
      "execution_count": null,
      "outputs": []
    }
  ]
}