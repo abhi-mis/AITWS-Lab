{
  "metadata": {
    "language_info": {
      "codemirror_mode": {
        "name": "python",
        "version": 3
      },
      "file_extension": ".py",
      "mimetype": "text/x-python",
      "name": "python",
      "nbconvert_exporter": "python",
      "pygments_lexer": "ipython3",
      "version": "3.8"
    },
    "kernelspec": {
      "name": "python",
      "display_name": "Python (Pyodide)",
      "language": "python"
    }
  },
  "nbformat_minor": 4,
  "nbformat": 4,
  "cells": [
    {
      "cell_type": "code",
      "source": "import numpy as np\na=np.random.randint(0,19,(4,5))\nprint(a)\nprint(\"3rd row and 4th column: \",a[-2,-1])\nprint(\"4th column: \",a[...,4])\n",
      "metadata": {},
      "execution_count": null,
      "outputs": []
    }
  ]
}